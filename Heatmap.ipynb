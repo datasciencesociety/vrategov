{
 "cells": [
  {
   "cell_type": "code",
   "execution_count": 4,
   "metadata": {},
   "outputs": [
    {
     "name": "stdout",
     "output_type": "stream",
     "text": [
      "Requirement already satisfied: folium in /home/vrategov/.local/lib/python3.6/site-packages (0.8.3)\n",
      "Requirement already satisfied: numpy in /opt/conda/lib/python3.6/site-packages (from folium) (1.16.2)\n",
      "Requirement already satisfied: six in /opt/conda/lib/python3.6/site-packages (from folium) (1.11.0)\n",
      "Requirement already satisfied: requests in /opt/conda/lib/python3.6/site-packages (from folium) (2.18.4)\n",
      "Requirement already satisfied: jinja2 in /opt/conda/lib/python3.6/site-packages (from folium) (2.10)\n",
      "Requirement already satisfied: branca>=0.3.0 in /home/vrategov/.local/lib/python3.6/site-packages (from folium) (0.3.1)\n",
      "Requirement already satisfied: chardet<3.1.0,>=3.0.2 in /opt/conda/lib/python3.6/site-packages (from requests->folium) (3.0.4)\n",
      "Requirement already satisfied: idna<2.7,>=2.5 in /opt/conda/lib/python3.6/site-packages (from requests->folium) (2.6)\n",
      "Requirement already satisfied: urllib3<1.23,>=1.21.1 in /opt/conda/lib/python3.6/site-packages (from requests->folium) (1.22)\n",
      "Requirement already satisfied: certifi>=2017.4.17 in /opt/conda/lib/python3.6/site-packages (from requests->folium) (2019.3.9)\n",
      "Requirement already satisfied: MarkupSafe>=0.23 in /opt/conda/lib/python3.6/site-packages (from jinja2->folium) (1.0)\n"
     ]
    }
   ],
   "source": [
    "# install some libraries \n",
    "!pip install folium --user"
   ]
  },
  {
   "cell_type": "code",
   "execution_count": 13,
   "metadata": {},
   "outputs": [],
   "source": [
    "# All necessary imports for this notebook\n",
    "# You can see them in the requirements.txt\n",
    "\n",
    "# for data processing\n",
    "import math\n",
    "import pandas as pd\n",
    "\n",
    "# for visualization\n",
    "import folium\n",
    "from folium import plugins\n",
    "\n",
    "%matplotlib inline\n",
    "import matplotlib.pyplot as plt"
   ]
  },
  {
   "cell_type": "code",
   "execution_count": 10,
   "metadata": {},
   "outputs": [],
   "source": [
    "# NOTE: You have to reference the CSV's from the Air Tube data set in 0. Data\n",
    "\n",
    "# Load Air Tube Data into a Data Frame\n",
    "# You can also concatenate them\n",
    "folder = \"/workspace/vrategov/00.Data/\"\n",
    "file = \"sofia_topo.csv\"\n",
    "df = pd.DataFrame(pd.read_csv(folder+file))"
   ]
  },
  {
   "cell_type": "code",
   "execution_count": 11,
   "metadata": {},
   "outputs": [
    {
     "data": {
      "text/html": [
       "<div>\n",
       "<style scoped>\n",
       "    .dataframe tbody tr th:only-of-type {\n",
       "        vertical-align: middle;\n",
       "    }\n",
       "\n",
       "    .dataframe tbody tr th {\n",
       "        vertical-align: top;\n",
       "    }\n",
       "\n",
       "    .dataframe thead th {\n",
       "        text-align: right;\n",
       "    }\n",
       "</style>\n",
       "<table border=\"1\" class=\"dataframe\">\n",
       "  <thead>\n",
       "    <tr style=\"text-align: right;\">\n",
       "      <th></th>\n",
       "      <th>Lat</th>\n",
       "      <th>Lon</th>\n",
       "      <th>Elev</th>\n",
       "    </tr>\n",
       "  </thead>\n",
       "  <tbody>\n",
       "    <tr>\n",
       "      <th>0</th>\n",
       "      <td>42.62</td>\n",
       "      <td>23.220000</td>\n",
       "      <td>1184.0</td>\n",
       "    </tr>\n",
       "    <tr>\n",
       "      <th>1</th>\n",
       "      <td>42.62</td>\n",
       "      <td>23.233571</td>\n",
       "      <td>1333.0</td>\n",
       "    </tr>\n",
       "    <tr>\n",
       "      <th>2</th>\n",
       "      <td>42.62</td>\n",
       "      <td>23.247143</td>\n",
       "      <td>1505.0</td>\n",
       "    </tr>\n",
       "    <tr>\n",
       "      <th>3</th>\n",
       "      <td>42.62</td>\n",
       "      <td>23.260714</td>\n",
       "      <td>1586.0</td>\n",
       "    </tr>\n",
       "    <tr>\n",
       "      <th>4</th>\n",
       "      <td>42.62</td>\n",
       "      <td>23.274286</td>\n",
       "      <td>1533.0</td>\n",
       "    </tr>\n",
       "  </tbody>\n",
       "</table>\n",
       "</div>"
      ],
      "text/plain": [
       "     Lat        Lon    Elev\n",
       "0  42.62  23.220000  1184.0\n",
       "1  42.62  23.233571  1333.0\n",
       "2  42.62  23.247143  1505.0\n",
       "3  42.62  23.260714  1586.0\n",
       "4  42.62  23.274286  1533.0"
      ]
     },
     "execution_count": 11,
     "metadata": {},
     "output_type": "execute_result"
    }
   ],
   "source": [
    "df.head()"
   ]
  },
  {
   "cell_type": "code",
   "execution_count": 1,
   "metadata": {},
   "outputs": [],
   "source": [
    "def make_heatmap(df, timestamp, metric):\n",
    "    \"\"\"Create a Heat Map of Sofia for a given timestamp to visualize a given metric.\n",
    "    For example, to visualize PM10 pollution\n",
    "    \n",
    "    The map is interactive.\n",
    "\n",
    "    The map also visualizes clusters of the locations.\n",
    "\n",
    "    Keyword arguments:\n",
    "    df     -- the data frame with time, longitude, lattitude and the chosen metric\n",
    "    timestamp -- the point in time for which to visualize the heat map\n",
    "    metric -- the metric, used for visualization\n",
    "    \"\"\"\n",
    "    points = df[df.time == timestamp]\n",
    "    \n",
    "    folium_map = folium.Map(location=sofia_center,\n",
    "                            zoom_start=11,\n",
    "                            tiles='Stamen Terrain')\n",
    "\n",
    "    marker_cluster = plugins.MarkerCluster().add_to(folium_map)\n",
    "    \n",
    "    for i in range(0, len(points)):\n",
    "        point = points.iloc[i]\n",
    "\n",
    "        folium.Marker(\n",
    "            [point['latitude'], point['longitude']],\n",
    "            popup=str(point['P1'])\n",
    "        ).add_to(marker_cluster)\n",
    "        \n",
    "#         folium.Circle(\n",
    "#             radius=10,\n",
    "#             location=[point['latitude'], point['longitude']],\n",
    "#             popup=str(point['P1']),\n",
    "#             color='#333333',\n",
    "#             fill=False\n",
    "#         ).add_to(folium_map)\n",
    "\n",
    "    plugins.MarkerCluster().add_to(folium_map)\n",
    "        \n",
    "    # plot heatmap\n",
    "    folium_map.add_child(plugins.HeatMap(\n",
    "        points[['latitude', 'longitude', metric]].as_matrix(),\n",
    "        min_opacity=0.2,\n",
    "        max_val=points[metric].max(),\n",
    "        radius=30, blur=17,\n",
    "        max_zoom=1\n",
    "    ))\n",
    "\n",
    "    # You can also save the interactive heat map as an HTML file\n",
    "    # folium_map.save(\"output-map.html\")\n",
    "    \n",
    "    return folium_map"
   ]
  },
  {
   "cell_type": "code",
   "execution_count": 2,
   "metadata": {},
   "outputs": [
    {
     "ename": "NameError",
     "evalue": "name 'sofia_df' is not defined",
     "output_type": "error",
     "traceback": [
      "\u001b[0;31m---------------------------------------------------------------------------\u001b[0m",
      "\u001b[0;31mNameError\u001b[0m                                 Traceback (most recent call last)",
      "\u001b[0;32m<ipython-input-2-1e878ee7cecc>\u001b[0m in \u001b[0;36m<module>\u001b[0;34m\u001b[0m\n\u001b[0;32m----> 1\u001b[0;31m \u001b[0mmake_heatmap\u001b[0m\u001b[0;34m(\u001b[0m\u001b[0msofia_df\u001b[0m\u001b[0;34m,\u001b[0m \u001b[0;34m'2017-09-06T20:00:00Z'\u001b[0m\u001b[0;34m,\u001b[0m \u001b[0;34m'P1'\u001b[0m\u001b[0;34m)\u001b[0m\u001b[0;34m\u001b[0m\u001b[0;34m\u001b[0m\u001b[0m\n\u001b[0m",
      "\u001b[0;31mNameError\u001b[0m: name 'sofia_df' is not defined"
     ]
    }
   ],
   "source": [
    "make_heatmap(sofia_df, '2017-09-06T20:00:00Z', 'P1')"
   ]
  }
 ],
 "metadata": {
  "kernelspec": {
   "display_name": "Python 3",
   "language": "python",
   "name": "python3"
  },
  "language_info": {
   "codemirror_mode": {
    "name": "ipython",
    "version": 3
   },
   "file_extension": ".py",
   "mimetype": "text/x-python",
   "name": "python",
   "nbconvert_exporter": "python",
   "pygments_lexer": "ipython3",
   "version": "3.6.8"
  }
 },
 "nbformat": 4,
 "nbformat_minor": 2
}
